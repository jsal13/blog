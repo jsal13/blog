{
 "cells": [
  {
   "cell_type": "raw",
   "metadata": {},
   "source": [
    "---\n",
    "title:  \"Abstract Classes In Python\"\n",
    "date:   2022-03-29\n",
    "\n",
    "classes: wide\n",
    "header:\n",
    "  overlay_filter: rgba(0, 146, 202, 0.8)\n",
    "  overlay_image: /assets/images/title_contract_abstract_classes.jpg\n",
    "  caption: \"Photo Credit: [**Bill of sale-AO 3765**](https://commons.wikimedia.org/wiki/File:Bill_of_sale_Louvre_AO3765.jpg)\"\n",
    "---"
   ]
  },
  {
   "cell_type": "markdown",
   "metadata": {},
   "source": [
    "## Introduction\n",
    "\n",
    "Abstract Classes may seem like strange beasts that one learns about and promptly forgets, but understanding what they are and when to use them will allow you to structure software in more readable, reliable, and scalable ways.\n",
    "\n",
    "For this post, I'm going to take a fairly simplified approach and give an example of one of the ways abstract classes can be used.  Let's dive in."
   ]
  },
  {
   "cell_type": "markdown",
   "metadata": {},
   "source": [
    "## The Sample Problem\n",
    "\n",
    "Let's say that we've got one database with all of our data on it.  Let's outline a little class for the connector. "
   ]
  },
  {
   "cell_type": "markdown",
   "metadata": {},
   "source": [
    "```python\n",
    "class DBConnector:\n",
    "    \"\"\"Connector for our DB.\"\"\"\n",
    "\n",
    "    def __init__(\n",
    "        self, \n",
    "        db: Any, \n",
    "        host: str, \n",
    "        user: str, \n",
    "        password: str\n",
    "    ) -> None:\n",
    "        \"\"\"Your amazing docstring goes here.\"\"\"\n",
    "        self.db = db\n",
    "        self.host = host\n",
    "        self.user = user\n",
    "        self.password = password\n",
    "\n",
    "    def _connect(self) -> Any:  # Connection type can go here in place of `Any`\n",
    "        # Do all of your connection stuff here...\n",
    "        conn = ...\n",
    "        # ...\n",
    "        # ...\n",
    "        return conn\n",
    "\n",
    "    def query(self, query: str) -> List[Tuple[str]]:\n",
    "        \"\"\"\n",
    "        Run the query.  \n",
    "        \n",
    "        Note this connection is a mock, you'll have to replace it \n",
    "        with whatever connection object you're using.\n",
    "        \"\"\"\n",
    "        conn = self._connect()\n",
    "        return conn.run_a_query(query)\n",
    "```"
   ]
  },
  {
   "cell_type": "markdown",
   "metadata": {},
   "source": [
    "Pretty basic.  You'd run this in the following way:\n",
    "\n",
    "```python\n",
    "# Put the args into DBConnector.\n",
    "dbconn = DBConnector(...).query(\"SELECT * FROM my_table\")\n",
    "```\n",
    "\n",
    "This would return some data in a reasonable way.\n",
    "\n",
    "---\n",
    "\n",
    "### Scaling the Connector...\n",
    "**What happens when someone wants to add another type of DB with a different connector?**  This becomes a bigger problem.  Maybe you try to patch it like this:"
   ]
  },
  {
   "cell_type": "markdown",
   "metadata": {},
   "source": [
    "```python\n",
    "from typing import Any, List, Tuple\n",
    "\n",
    "class DBConnector:\n",
    "    \"\"\"Connector for our DB.\"\"\"\n",
    "\n",
    "    def __init__(\n",
    "        self, \n",
    "        db: Any, \n",
    "        host: str, \n",
    "        user: str, \n",
    "        password: str, \n",
    "        db_type: str\n",
    "    ) -> None:\n",
    "        \"\"\"Your amazing docstring goes here.\"\"\"\n",
    "        self.db = db\n",
    "        self.host = host\n",
    "        self.user = user\n",
    "        self.password = password\n",
    "        self.db_type = db_type\n",
    "\n",
    "    def _connect(self) -> Any:  # Connection type can go here in place of `Any`\n",
    "        # Do all of your connection stuff here...\n",
    "        if self.db_type == \"db_type_1\":        \n",
    "            conn = ...\n",
    "            # ...\n",
    "            # ...\n",
    "            return conn\n",
    "        elif self.db_type == \"db_type_2\":\n",
    "            conn = ...\n",
    "            # ...\n",
    "            # ...\n",
    "            return conn\n",
    "        else:\n",
    "            raise ...  # Raise some kind of error.\n",
    "\n",
    "\n",
    "    def query(self, query: str) -> List[Tuple[str]]:\n",
    "        \"\"\"\n",
    "        Run the query.  \n",
    "        \n",
    "        Note this connection is a mock, you'll have to replace \n",
    "        it with whatever connection object you're using.\n",
    "        \"\"\"\n",
    "        conn = self._connect()\n",
    "        if self.db_type == \"db_type_1\":\n",
    "            return conn.run_a_query(query)\n",
    "        elif self.db_type == \"db_type_2\":\n",
    "            return conn.run_a_query_on_this_db(query)\n",
    "        else:\n",
    "            raise ... #  Raise some kind of error.\n",
    "```"
   ]
  },
  {
   "cell_type": "markdown",
   "metadata": {},
   "source": [
    "Notice two things.  \n",
    "\n",
    "First, this is not a good looking hunk of code: there's going to be tons of if-else statements depending on how many DBs we need to add.  What if we forgot to add a DB to the \"query\" part?\n",
    "\n",
    "Second, the connectors follow essentially the same \"contract\"; that is, they both have a method which _connects_ and which runs a _query_ and gets a result.  The difference is in how they're implemented...\n",
    "\n",
    "### What's the contract?\n",
    "\n",
    "Let's make some pseudo-code for how the contract looks for these two DBs.\n",
    "\n",
    "```python\n",
    "class DBConnector:\n",
    "    \"\"\"Connector for our DB.\"\"\"\n",
    "\n",
    "    # The init will be the same as above for both.\n",
    "    def _connect(self) -> Any: ...\n",
    "    def query(self, query: str) -> List[Tuple[str]]: ...\n",
    "```"
   ]
  },
  {
   "cell_type": "markdown",
   "metadata": {},
   "source": [
    "The idea is that we can use this as a parent class to both of the connectors, and have them \"fill in\" the methods with however that DB does its work.  **Abstract classes do this: they allow you to write up a \"blueprint\" for methods every child should implement.**\n",
    "\n",
    "Let's look at how this looks in real python code."
   ]
  },
  {
   "cell_type": "code",
   "execution_count": 11,
   "metadata": {},
   "outputs": [],
   "source": [
    "import abc  # Abstract Base Class library.\n",
    "from typing import Any, List, Tuple\n",
    "\n",
    "\n",
    "class DBConnector(abc.ABC):  # We must extend the ABC class for our Abstract Class.\n",
    "    \"\"\"Connector for our DB.\"\"\"\n",
    "\n",
    "    # The init is still the same.\n",
    "    def __init__(self, db: Any, host: str, user: str, password: str) -> None:\n",
    "        \"\"\"Your amazing docstring goes here.\"\"\"\n",
    "        self.db = db\n",
    "        self.host = host\n",
    "        self.user = user\n",
    "        self.password = password\n",
    "\n",
    "    @abc.abstractmethod  # this makes the following function an abstract method!\n",
    "    def _connect(self) -> Any:\n",
    "        \"\"\"Connect to the DB.\"\"\"\n",
    "        pass\n",
    "\n",
    "    @abc.abstractmethod\n",
    "    def query(self, query: str) -> List[Tuple[str]]:\n",
    "        \"\"\"Run the query.\"\"\"\n",
    "        pass"
   ]
  },
  {
   "cell_type": "markdown",
   "metadata": {},
   "source": [
    "The ``abc.abstractmethod`` decorator tells Python that this is a method which a child class _must_ implement, or Python will throw an error.  This is good: it allows us to not miss anything when creating new connectors!\n",
    "\n",
    "Let's make our two connectors using this abstract class DBConnector as a base class."
   ]
  },
  {
   "cell_type": "code",
   "execution_count": 12,
   "metadata": {},
   "outputs": [],
   "source": [
    "class FirstDBConnector(DBConnector):\n",
    "    \"\"\"Connector for our db_type_1 DB.\"\"\"\n",
    "\n",
    "    def _connect(self) -> Any:  # We must define this now!\n",
    "        \"\"\"Connect to the DB.\"\"\"\n",
    "        conn = ...\n",
    "        # do the connection logic here.\n",
    "        return conn\n",
    "\n",
    "    def query(self, query: str) -> List[Tuple[str]]:\n",
    "        \"\"\"Run the query.\"\"\"\n",
    "        conn = self._connect()\n",
    "        return conn.run_a_query(query)\n",
    "\n",
    "\n",
    "class SecondDBConnector(DBConnector):\n",
    "    \"\"\"Connector for our db_type_2 DB.\"\"\"\n",
    "\n",
    "    def _connect(self) -> Any:  # We must define this now!\n",
    "        \"\"\"Connect to the DB.\"\"\"\n",
    "        conn = ...\n",
    "        # do some different connection logic here.\n",
    "        return conn\n",
    "\n",
    "    def query(self, query: str) -> List[Tuple[str]]:\n",
    "        \"\"\"Run the query.\"\"\"\n",
    "        conn = self._connect()\n",
    "        return conn.run_a_query_on_this_db(query)"
   ]
  },
  {
   "cell_type": "markdown",
   "metadata": {},
   "source": [
    "We now have two connectors that are following our abstract class contract.  What happens if we were to forget to define one of the methods in one of the classes?\n",
    "\n",
    "Note that it's entirely possible to have \"default\" methods in the abstract class, so we can cut down on a lot of extra copy-pasting if these DB connectors shared a bunch of methods.  "
   ]
  },
  {
   "cell_type": "code",
   "execution_count": 14,
   "metadata": {},
   "outputs": [
    {
     "ename": "TypeError",
     "evalue": "Can't instantiate abstract class ThirdDBConnector with abstract method query",
     "output_type": "error",
     "traceback": [
      "\u001b[0;31m---------------------------------------------------------------------------\u001b[0m",
      "\u001b[0;31mTypeError\u001b[0m                                 Traceback (most recent call last)",
      "\u001b[1;32m/home/james/repos/blog/_notebooks/abstract-classes-in-python.ipynb Cell 13'\u001b[0m in \u001b[0;36m<module>\u001b[0;34m\u001b[0m\n\u001b[1;32m      <a href='vscode-notebook-cell://wsl%2Bubuntu/home/james/repos/blog/_notebooks/abstract-classes-in-python.ipynb#ch0000029vscode-remote?line=6'>7</a>\u001b[0m         \u001b[39m# do some different connection logic here.\u001b[39;00m\n\u001b[1;32m      <a href='vscode-notebook-cell://wsl%2Bubuntu/home/james/repos/blog/_notebooks/abstract-classes-in-python.ipynb#ch0000029vscode-remote?line=7'>8</a>\u001b[0m         \u001b[39mreturn\u001b[39;00m conn\n\u001b[0;32m---> <a href='vscode-notebook-cell://wsl%2Bubuntu/home/james/repos/blog/_notebooks/abstract-classes-in-python.ipynb#ch0000029vscode-remote?line=9'>10</a>\u001b[0m tdbconn \u001b[39m=\u001b[39m ThirdDBConnector(\u001b[39m\"\u001b[39;49m\u001b[39ma\u001b[39;49m\u001b[39m\"\u001b[39;49m, \u001b[39m\"\u001b[39;49m\u001b[39mb\u001b[39;49m\u001b[39m\"\u001b[39;49m, \u001b[39m\"\u001b[39;49m\u001b[39mc\u001b[39;49m\u001b[39m\"\u001b[39;49m, \u001b[39m\"\u001b[39;49m\u001b[39md\u001b[39;49m\u001b[39m\"\u001b[39;49m)\n",
      "\u001b[0;31mTypeError\u001b[0m: Can't instantiate abstract class ThirdDBConnector with abstract method query"
     ]
    }
   ],
   "source": [
    "class ThirdDBConnector(DBConnector):\n",
    "    \"\"\"Connector for our db_type_2 DB.\"\"\"\n",
    "\n",
    "    def _connect(self) -> Any:  # We must define this now!\n",
    "        \"\"\"Connect to the DB.\"\"\"\n",
    "        conn = ...\n",
    "        # do some different connection logic here.\n",
    "        return conn\n",
    "\n",
    "\n",
    "tdbconn = ThirdDBConnector(\"a\", \"b\", \"c\", \"d\")"
   ]
  },
  {
   "cell_type": "markdown",
   "metadata": {},
   "source": [
    "We see that we get the following error:\n",
    "\n",
    "`TypeError: Can't instantiate abstract class ThirdDBConnector with abstract method query`\n",
    "\n",
    "That's exactly what we forgot to define! Python is preventing us from breaking the DBConnector contract. Nice."
   ]
  },
  {
   "cell_type": "markdown",
   "metadata": {},
   "source": [
    "### Some Other Notes\n",
    "\n",
    "You can have default methods in your abstract class, and you can add methods unique to a  child class: it's no so strict that it gives the _exact_ form of the class, only what that class absolutely needs.\n",
    "\n",
    "If you're using static or class methods, you can stack the decorators!\n",
    "\n",
    "```python\n",
    "@staticmethod\n",
    "@abc.abstractmethod\n",
    "def my_func(): ...\n",
    "```\n",
    "\n",
    "Check out some of the other stuff you can do in the [Python docs](https://docs.python.org/3/library/abc.html).\n"
   ]
  }
 ],
 "metadata": {
  "interpreter": {
   "hash": "409c0ef82ba8b7e64c8e82f82fa10040b189117e3f7cf50921b9ec62b5d5a915"
  },
  "kernelspec": {
   "display_name": "Python 3.9.5 64-bit ('blog-Mz1OaUtd-py3.9': poetry)",
   "language": "python",
   "name": "python3"
  },
  "language_info": {
   "codemirror_mode": {
    "name": "ipython",
    "version": 3
   },
   "file_extension": ".py",
   "mimetype": "text/x-python",
   "name": "python",
   "nbconvert_exporter": "python",
   "pygments_lexer": "ipython3",
   "version": "3.10.6"
  },
  "orig_nbformat": 4
 },
 "nbformat": 4,
 "nbformat_minor": 2
}
