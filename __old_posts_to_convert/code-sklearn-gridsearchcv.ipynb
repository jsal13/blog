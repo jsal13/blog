{
 "cells": [
  {
   "cell_type": "raw",
   "metadata": {},
   "source": [
    "---\n",
    "title:  \"What parameters should I be using in my Sklearn Mmdels?: Introducing GridSearchCV.\"\n",
    "date:   2022-01-08\n",
    "\n",
    "classes: wide\n",
    "\n",
    "header:\n",
    "  overlay_filter: rgba(0, 146, 202, 0.8)\n",
    "  overlay_image: /assets/images/title_grid.png\n",
    "  caption: \"Photo Credit: [**Wikipedia**](https://commons.wikimedia.org/wiki/File:Log_paper.svg)\"\n",
    "---"
   ]
  },
  {
   "attachments": {},
   "cell_type": "markdown",
   "metadata": {},
   "source": [
    "## Introduction\n",
    "\n",
    "There are many different models to choose from in ``sklean`` to model your data with.  There are many parameters and hyper-parameters related to these models.  How can you find the **best** (or, at least, pretty good) ones for your data?"
   ]
  },
  {
   "cell_type": "code",
   "execution_count": 1,
   "metadata": {},
   "outputs": [],
   "source": [
    "import altair as alt\n",
    "import numpy as np\n",
    "import pandas as pd\n",
    "from sklearn.datasets import load_digits, load_iris\n",
    "from sklearn.decomposition import PCA\n",
    "from sklearn.ensemble import RandomForestClassifier\n",
    "from sklearn.linear_model import LogisticRegression\n",
    "from sklearn.model_selection import GridSearchCV, train_test_split\n",
    "from sklearn.pipeline import Pipeline\n",
    "from sklearn.preprocessing import StandardScaler"
   ]
  },
  {
   "cell_type": "markdown",
   "metadata": {},
   "source": [
    "---\n",
    "## Grid Search\n",
    "\n",
    "If you were posed this question and you didn't know a whole lot about the ``sklearn`` universe, you might say something like this:\n",
    "\n",
    "\"For every (hyper)parameter, let's take a list of values to try and ``for``-loop over them all.\"\n",
    "\n",
    "That's pretty much hitting the nail on the head. Instead of doing ugly ``for``-loops some number of times (potentially indenting past what your monitor can show!), ``sklean`` has ``GridSearchCV``.  \n",
    "\n",
    "Let's give an example, then chat about it.  If you've not read about [Pipelines](https://scikit-learn.org/stable/modules/generated/sklearn.pipeline.Pipeline.html), check out [this post](/2021-01-08-sklearn-pipelines-how-to.html)."
   ]
  },
  {
   "cell_type": "code",
   "execution_count": 2,
   "metadata": {},
   "outputs": [
    {
     "data": {
      "text/plain": [
       "0.7491694352159468"
      ]
     },
     "execution_count": 2,
     "metadata": {},
     "output_type": "execute_result"
    }
   ],
   "source": [
    "# Sample data, the Sklearn Digits Dataset.\n",
    "df_features, df_targets = load_digits(return_X_y=True, as_frame=True)\n",
    "x_train, x_test, y_train, y_test = train_test_split(\n",
    "    df_features, df_targets, train_size=0.33, random_state=1234\n",
    ")\n",
    "\n",
    "# Create our pipelines: Preprocess, Model.\n",
    "pipeline_preprocess = Pipeline([(\"pca\", PCA(n_components=3))])\n",
    "\n",
    "pipeline_model = Pipeline([(\"random_forest\", RandomForestClassifier(n_estimators=100))])\n",
    "\n",
    "# Hook up our piplines together and train.\n",
    "pipeline_full = Pipeline(\n",
    "    [(\"preprocessing\", pipeline_preprocess), (\"modeling\", pipeline_model)]\n",
    ")\n",
    "\n",
    "pipeline_full.fit(x_train, y_train)\n",
    "\n",
    "# Score our model.\n",
    "pipeline_full.score(x_test, y_test)"
   ]
  },
  {
   "cell_type": "markdown",
   "metadata": {},
   "source": [
    "As we can see, we've made pipelines for preprocessing, modeling, and then tying those together.  It might seem verbose, but it makes things much easier when attempting to extend one part of the model, or swap things out.\n",
    "\n",
    "While not a perfect model, it gets a respectable accuracy when running with the default parameters in ``PCA`` and ``RandomForestClassifier``.  Maybe tweaking these values would give a better result.  Suppose we try out something like, ``[1, 5, 10, 15, 20, 25, 30, 35]`` for the components in ``PCA``and ``[1, 10, 25, 50, 75, 100, 125]`` for ``n_estimators`` in the Random Forest &mdash; if you tried to do this yourself, you'd have to manually type in these values and run the model **56 times**.  That's much too much.  Instead, let's let grid-search do it for us.\n",
    "\n",
    "(Note that, in addition to grid-searching, ``GridSearchCV`` will work on cross-validation scoring, so we no longer need to split our data into a train-test set.  However, we will rename and use the test set as the validation set at the end to score our model.)\n",
    "\n"
   ]
  },
  {
   "cell_type": "code",
   "execution_count": 3,
   "metadata": {},
   "outputs": [
    {
     "data": {
      "text/plain": [
       "GridSearchCV(estimator=Pipeline(steps=[('preprocessing',\n",
       "                                        Pipeline(steps=[('pca',\n",
       "                                                         PCA(n_components=3))])),\n",
       "                                       ('modeling',\n",
       "                                        Pipeline(steps=[('random_forest',\n",
       "                                                         RandomForestClassifier())]))]),\n",
       "             param_grid={'modeling__random_forest__n_estimators': [1, 10, 25,\n",
       "                                                                   50, 75, 100,\n",
       "                                                                   125],\n",
       "                         'preprocessing__pca__n_components': [1, 5, 10, 15, 20,\n",
       "                                                              25, 30, 35]})"
      ]
     },
     "execution_count": 3,
     "metadata": {},
     "output_type": "execute_result"
    }
   ],
   "source": [
    "# Sample data, the Sklearn Digits Dataset.\n",
    "df_features, df_targets = load_digits(return_X_y=True, as_frame=True)\n",
    "x_train, x_validation, y_train, y_validation = train_test_split(\n",
    "    df_features, df_targets, train_size=0.33, random_state=1234\n",
    ")\n",
    "\n",
    "# Create our pipelines: Preprocess, Model.\n",
    "pipeline_preprocess = Pipeline([(\"pca\", PCA(n_components=3))])\n",
    "\n",
    "pipeline_model = Pipeline([(\"random_forest\", RandomForestClassifier(n_estimators=100))])\n",
    "\n",
    "# Hook up our piplines together and train.\n",
    "pipeline_full = Pipeline(\n",
    "    [(\"preprocessing\", pipeline_preprocess), (\"modeling\", pipeline_model)]\n",
    ")\n",
    "\n",
    "# Parameters we're making a grid of.\n",
    "#\n",
    "# In our case, since `pipeline_full` is a pipeline of pipelines, we must\n",
    "# use (pipeline_name)__(estimator_name)__(param_name).\n",
    "#\n",
    "# For example, `n_estimators` is given by `modeling__random_forest__n_estimators`.\n",
    "#\n",
    "# If you're not sure what to use, you can always print ``pipeline_full.get_params()``.\n",
    "#\n",
    "# See: https://scikit-learn.org/stable/modules/compose.html#nested-parameters\n",
    "\n",
    "param_grid = {\n",
    "    \"modeling__random_forest__n_estimators\": [1, 10, 25, 50, 75, 100, 125],\n",
    "    \"preprocessing__pca__n_components\": [1, 5, 10, 15, 20, 25, 30, 35],\n",
    "}\n",
    "\n",
    "# NOTE: This takes about a minute.\n",
    "grid_search = GridSearchCV(pipeline_full, param_grid)\n",
    "grid_search.fit(x_train, y_train)"
   ]
  },
  {
   "cell_type": "code",
   "execution_count": 4,
   "metadata": {},
   "outputs": [
    {
     "name": "stdout",
     "output_type": "stream",
     "text": [
      "0.9493355481727574\n",
      "0.9628827802307363\n",
      "Pipeline(steps=[('preprocessing',\n",
      "                 Pipeline(steps=[('pca', PCA(n_components=30))])),\n",
      "                ('modeling',\n",
      "                 Pipeline(steps=[('random_forest',\n",
      "                                  RandomForestClassifier(n_estimators=125))]))])\n"
     ]
    }
   ],
   "source": [
    "print(grid_search.score(x_validation, y_validation))\n",
    "print(grid_search.best_score_)\n",
    "print(grid_search.best_estimator_)"
   ]
  },
  {
   "cell_type": "markdown",
   "metadata": {},
   "source": [
    "On the digits dataset, using more of the data via components and estimators gave us a better accuracy; this isn't always the case, and it's a good reason we grid-search in the first place.\n",
    "\n",
    "One thing you might have noticed: this took a while to run.  Modeling the digit dataset is typically do-able in a second or less, but this took around a minute!  This seems trivial until we think about training datasets much larger than the digit dataset.  That's a problem.  This can be resolved in a few ways:\n",
    "\n",
    "- Reduce your parameter space (using commonly accepted \"good\" parameters may work well!),\n",
    "- Use a smarter grid-search (there are several out there which are a bit more complicated and situational),\n",
    "- Try a bunch of different, spread-out parameters to try to hone in on areas which may be worth looking at,\n",
    "- Trying something like ``RandomizedSearchCV``\n",
    "\n",
    "There are many, many other potential solutions for the problem of \"too big of a grid\", but we will note one other thing here.  For parameters like regularization (which are commonly gridded), the workload can be reduced by computing the [regularization path](https://scikit-learn.org/stable/modules/grid_search.html#grid-search-tips).\n",
    "\n",
    "It may also be worth checking out parallelization methods if you're going to be using larger grids on significant amounts of data."
   ]
  },
  {
   "cell_type": "markdown",
   "metadata": {},
   "source": [
    "---\n",
    "## What do we get from GridSearchCV?\n",
    "\n",
    "When we ran ``GridSearchCV`` above, we took the ``.best_estimator_`` and were done with it. Can we look a bit closer into the results?  Sure."
   ]
  },
  {
   "cell_type": "code",
   "execution_count": 5,
   "metadata": {},
   "outputs": [
    {
     "data": {
      "text/html": [
       "<div>\n",
       "<style scoped>\n",
       "    .dataframe tbody tr th:only-of-type {\n",
       "        vertical-align: middle;\n",
       "    }\n",
       "\n",
       "    .dataframe tbody tr th {\n",
       "        vertical-align: top;\n",
       "    }\n",
       "\n",
       "    .dataframe thead th {\n",
       "        text-align: right;\n",
       "    }\n",
       "</style>\n",
       "<table border=\"1\" class=\"dataframe\">\n",
       "  <thead>\n",
       "    <tr style=\"text-align: right;\">\n",
       "      <th></th>\n",
       "      <th>param_modeling__random_forest__n_estimators</th>\n",
       "      <th>param_preprocessing__pca__n_components</th>\n",
       "      <th>mean_test_score</th>\n",
       "    </tr>\n",
       "  </thead>\n",
       "  <tbody>\n",
       "    <tr>\n",
       "      <th>0</th>\n",
       "      <td>1</td>\n",
       "      <td>1</td>\n",
       "      <td>0.227603</td>\n",
       "    </tr>\n",
       "    <tr>\n",
       "      <th>1</th>\n",
       "      <td>1</td>\n",
       "      <td>5</td>\n",
       "      <td>0.741988</td>\n",
       "    </tr>\n",
       "    <tr>\n",
       "      <th>2</th>\n",
       "      <td>1</td>\n",
       "      <td>10</td>\n",
       "      <td>0.704885</td>\n",
       "    </tr>\n",
       "    <tr>\n",
       "      <th>3</th>\n",
       "      <td>1</td>\n",
       "      <td>15</td>\n",
       "      <td>0.684475</td>\n",
       "    </tr>\n",
       "    <tr>\n",
       "      <th>4</th>\n",
       "      <td>1</td>\n",
       "      <td>20</td>\n",
       "      <td>0.709927</td>\n",
       "    </tr>\n",
       "  </tbody>\n",
       "</table>\n",
       "</div>"
      ],
      "text/plain": [
       "  param_modeling__random_forest__n_estimators  \\\n",
       "0                                           1   \n",
       "1                                           1   \n",
       "2                                           1   \n",
       "3                                           1   \n",
       "4                                           1   \n",
       "\n",
       "  param_preprocessing__pca__n_components  mean_test_score  \n",
       "0                                      1         0.227603  \n",
       "1                                      5         0.741988  \n",
       "2                                     10         0.704885  \n",
       "3                                     15         0.684475  \n",
       "4                                     20         0.709927  "
      ]
     },
     "execution_count": 5,
     "metadata": {},
     "output_type": "execute_result"
    }
   ],
   "source": [
    "df_grid_search_results = pd.DataFrame(grid_search.cv_results_)\n",
    "df_grid_search_results = df_grid_search_results[\n",
    "    [\n",
    "        \"param_modeling__random_forest__n_estimators\",\n",
    "        \"param_preprocessing__pca__n_components\",\n",
    "        \"mean_test_score\",\n",
    "    ]\n",
    "]\n",
    "df_grid_search_results.head(5)"
   ]
  },
  {
   "cell_type": "code",
   "execution_count": 6,
   "metadata": {},
   "outputs": [
    {
     "data": {
      "text/html": [
       "\n",
       "<div id=\"altair-viz-416be54abd3f408c849fc1b369a998c6\"></div>\n",
       "<script type=\"text/javascript\">\n",
       "  var VEGA_DEBUG = (typeof VEGA_DEBUG == \"undefined\") ? {} : VEGA_DEBUG;\n",
       "  (function(spec, embedOpt){\n",
       "    let outputDiv = document.currentScript.previousElementSibling;\n",
       "    if (outputDiv.id !== \"altair-viz-416be54abd3f408c849fc1b369a998c6\") {\n",
       "      outputDiv = document.getElementById(\"altair-viz-416be54abd3f408c849fc1b369a998c6\");\n",
       "    }\n",
       "    const paths = {\n",
       "      \"vega\": \"https://cdn.jsdelivr.net/npm//vega@5?noext\",\n",
       "      \"vega-lib\": \"https://cdn.jsdelivr.net/npm//vega-lib?noext\",\n",
       "      \"vega-lite\": \"https://cdn.jsdelivr.net/npm//vega-lite@4.17.0?noext\",\n",
       "      \"vega-embed\": \"https://cdn.jsdelivr.net/npm//vega-embed@6?noext\",\n",
       "    };\n",
       "\n",
       "    function maybeLoadScript(lib, version) {\n",
       "      var key = `${lib.replace(\"-\", \"\")}_version`;\n",
       "      return (VEGA_DEBUG[key] == version) ?\n",
       "        Promise.resolve(paths[lib]) :\n",
       "        new Promise(function(resolve, reject) {\n",
       "          var s = document.createElement('script');\n",
       "          document.getElementsByTagName(\"head\")[0].appendChild(s);\n",
       "          s.async = true;\n",
       "          s.onload = () => {\n",
       "            VEGA_DEBUG[key] = version;\n",
       "            return resolve(paths[lib]);\n",
       "          };\n",
       "          s.onerror = () => reject(`Error loading script: ${paths[lib]}`);\n",
       "          s.src = paths[lib];\n",
       "        });\n",
       "    }\n",
       "\n",
       "    function showError(err) {\n",
       "      outputDiv.innerHTML = `<div class=\"error\" style=\"color:red;\">${err}</div>`;\n",
       "      throw err;\n",
       "    }\n",
       "\n",
       "    function displayChart(vegaEmbed) {\n",
       "      vegaEmbed(outputDiv, spec, embedOpt)\n",
       "        .catch(err => showError(`Javascript Error: ${err.message}<br>This usually means there's a typo in your chart specification. See the javascript console for the full traceback.`));\n",
       "    }\n",
       "\n",
       "    if(typeof define === \"function\" && define.amd) {\n",
       "      requirejs.config({paths});\n",
       "      require([\"vega-embed\"], displayChart, err => showError(`Error loading script: ${err.message}`));\n",
       "    } else {\n",
       "      maybeLoadScript(\"vega\", \"5\")\n",
       "        .then(() => maybeLoadScript(\"vega-lite\", \"4.17.0\"))\n",
       "        .then(() => maybeLoadScript(\"vega-embed\", \"6\"))\n",
       "        .catch(showError)\n",
       "        .then(() => displayChart(vegaEmbed));\n",
       "    }\n",
       "  })({\"config\": {\"view\": {\"continuousWidth\": 400, \"continuousHeight\": 300}, \"axis\": {\"grid\": false}}, \"data\": {\"name\": \"data-e3bbf9eb237ea0b748cdcfe5e0281ff9\"}, \"mark\": \"circle\", \"encoding\": {\"color\": {\"field\": \"mean_test_score\", \"scale\": {\"scheme\": \"redblue\"}, \"type\": \"quantitative\"}, \"x\": {\"field\": \"param_modeling__random_forest__n_estimators\", \"type\": \"quantitative\"}, \"y\": {\"field\": \"param_preprocessing__pca__n_components\", \"type\": \"quantitative\"}}, \"$schema\": \"https://vega.github.io/schema/vega-lite/v4.17.0.json\", \"datasets\": {\"data-e3bbf9eb237ea0b748cdcfe5e0281ff9\": [{\"param_modeling__random_forest__n_estimators\": 1, \"param_preprocessing__pca__n_components\": 1, \"mean_test_score\": 0.22760290556900725}, {\"param_modeling__random_forest__n_estimators\": 1, \"param_preprocessing__pca__n_components\": 5, \"mean_test_score\": 0.7419883207520297}, {\"param_modeling__random_forest__n_estimators\": 1, \"param_preprocessing__pca__n_components\": 10, \"mean_test_score\": 0.7048853439680958}, {\"param_modeling__random_forest__n_estimators\": 1, \"param_preprocessing__pca__n_components\": 15, \"mean_test_score\": 0.6844751459905997}, {\"param_modeling__random_forest__n_estimators\": 1, \"param_preprocessing__pca__n_components\": 20, \"mean_test_score\": 0.7099273607748183}, {\"param_modeling__random_forest__n_estimators\": 1, \"param_preprocessing__pca__n_components\": 25, \"mean_test_score\": 0.6543227460475716}, {\"param_modeling__random_forest__n_estimators\": 1, \"param_preprocessing__pca__n_components\": 30, \"mean_test_score\": 0.6390542657741063}, {\"param_modeling__random_forest__n_estimators\": 1, \"param_preprocessing__pca__n_components\": 35, \"mean_test_score\": 0.605440820395955}, {\"param_modeling__random_forest__n_estimators\": 10, \"param_preprocessing__pca__n_components\": 1, \"mean_test_score\": 0.227617148554337}, {\"param_modeling__random_forest__n_estimators\": 10, \"param_preprocessing__pca__n_components\": 5, \"mean_test_score\": 0.8735080472867113}, {\"param_modeling__random_forest__n_estimators\": 10, \"param_preprocessing__pca__n_components\": 10, \"mean_test_score\": 0.8971229169633956}, {\"param_modeling__random_forest__n_estimators\": 10, \"param_preprocessing__pca__n_components\": 15, \"mean_test_score\": 0.9173052271756161}, {\"param_modeling__random_forest__n_estimators\": 10, \"param_preprocessing__pca__n_components\": 20, \"mean_test_score\": 0.9021364477994588}, {\"param_modeling__random_forest__n_estimators\": 10, \"param_preprocessing__pca__n_components\": 25, \"mean_test_score\": 0.9089161088164079}, {\"param_modeling__random_forest__n_estimators\": 10, \"param_preprocessing__pca__n_components\": 30, \"mean_test_score\": 0.8835920809001566}, {\"param_modeling__random_forest__n_estimators\": 10, \"param_preprocessing__pca__n_components\": 35, \"mean_test_score\": 0.8768693918245264}, {\"param_modeling__random_forest__n_estimators\": 25, \"param_preprocessing__pca__n_components\": 1, \"mean_test_score\": 0.22931206380857425}, {\"param_modeling__random_forest__n_estimators\": 25, \"param_preprocessing__pca__n_components\": 5, \"mean_test_score\": 0.8902720410197977}, {\"param_modeling__random_forest__n_estimators\": 25, \"param_preprocessing__pca__n_components\": 10, \"mean_test_score\": 0.9257513174761429}, {\"param_modeling__random_forest__n_estimators\": 25, \"param_preprocessing__pca__n_components\": 15, \"mean_test_score\": 0.9459905996296823}, {\"param_modeling__random_forest__n_estimators\": 25, \"param_preprocessing__pca__n_components\": 20, \"mean_test_score\": 0.9358780800455776}, {\"param_modeling__random_forest__n_estimators\": 25, \"param_preprocessing__pca__n_components\": 25, \"mean_test_score\": 0.9375872382851445}, {\"param_modeling__random_forest__n_estimators\": 25, \"param_preprocessing__pca__n_components\": 30, \"mean_test_score\": 0.9358923230309072}, {\"param_modeling__random_forest__n_estimators\": 25, \"param_preprocessing__pca__n_components\": 35, \"mean_test_score\": 0.9443241703461046}, {\"param_modeling__random_forest__n_estimators\": 50, \"param_preprocessing__pca__n_components\": 1, \"mean_test_score\": 0.2309927360774818}, {\"param_modeling__random_forest__n_estimators\": 50, \"param_preprocessing__pca__n_components\": 5, \"mean_test_score\": 0.8970944309927361}, {\"param_modeling__random_forest__n_estimators\": 50, \"param_preprocessing__pca__n_components\": 10, \"mean_test_score\": 0.9341404358353509}, {\"param_modeling__random_forest__n_estimators\": 50, \"param_preprocessing__pca__n_components\": 15, \"mean_test_score\": 0.9442814413901154}, {\"param_modeling__random_forest__n_estimators\": 50, \"param_preprocessing__pca__n_components\": 20, \"mean_test_score\": 0.9460333285856715}, {\"param_modeling__random_forest__n_estimators\": 50, \"param_preprocessing__pca__n_components\": 25, \"mean_test_score\": 0.9443241703461045}, {\"param_modeling__random_forest__n_estimators\": 50, \"param_preprocessing__pca__n_components\": 30, \"mean_test_score\": 0.9493804301381568}, {\"param_modeling__random_forest__n_estimators\": 50, \"param_preprocessing__pca__n_components\": 35, \"mean_test_score\": 0.9460190856003419}, {\"param_modeling__random_forest__n_estimators\": 75, \"param_preprocessing__pca__n_components\": 1, \"mean_test_score\": 0.2309927360774818}, {\"param_modeling__random_forest__n_estimators\": 75, \"param_preprocessing__pca__n_components\": 5, \"mean_test_score\": 0.900413046574562}, {\"param_modeling__random_forest__n_estimators\": 75, \"param_preprocessing__pca__n_components\": 10, \"mean_test_score\": 0.9324882495371029}, {\"param_modeling__random_forest__n_estimators\": 75, \"param_preprocessing__pca__n_components\": 15, \"mean_test_score\": 0.9476997578692492}, {\"param_modeling__random_forest__n_estimators\": 75, \"param_preprocessing__pca__n_components\": 20, \"mean_test_score\": 0.947714000854579}, {\"param_modeling__random_forest__n_estimators\": 75, \"param_preprocessing__pca__n_components\": 25, \"mean_test_score\": 0.9459905996296823}, {\"param_modeling__random_forest__n_estimators\": 75, \"param_preprocessing__pca__n_components\": 30, \"mean_test_score\": 0.9426434980771969}, {\"param_modeling__random_forest__n_estimators\": 75, \"param_preprocessing__pca__n_components\": 35, \"mean_test_score\": 0.9493946731234868}, {\"param_modeling__random_forest__n_estimators\": 100, \"param_preprocessing__pca__n_components\": 1, \"mean_test_score\": 0.2309927360774818}, {\"param_modeling__random_forest__n_estimators\": 100, \"param_preprocessing__pca__n_components\": 5, \"mean_test_score\": 0.9088448938897592}, {\"param_modeling__random_forest__n_estimators\": 100, \"param_preprocessing__pca__n_components\": 10, \"mean_test_score\": 0.9291269049992877}, {\"param_modeling__random_forest__n_estimators\": 100, \"param_preprocessing__pca__n_components\": 15, \"mean_test_score\": 0.9476712718985899}, {\"param_modeling__random_forest__n_estimators\": 100, \"param_preprocessing__pca__n_components\": 20, \"mean_test_score\": 0.9611736219911693}, {\"param_modeling__random_forest__n_estimators\": 100, \"param_preprocessing__pca__n_components\": 25, \"mean_test_score\": 0.9510611024070645}, {\"param_modeling__random_forest__n_estimators\": 100, \"param_preprocessing__pca__n_components\": 30, \"mean_test_score\": 0.9561458481697764}, {\"param_modeling__random_forest__n_estimators\": 100, \"param_preprocessing__pca__n_components\": 35, \"mean_test_score\": 0.9510468594217347}, {\"param_modeling__random_forest__n_estimators\": 125, \"param_preprocessing__pca__n_components\": 1, \"mean_test_score\": 0.2309927360774818}, {\"param_modeling__random_forest__n_estimators\": 125, \"param_preprocessing__pca__n_components\": 5, \"mean_test_score\": 0.8987751032616437}, {\"param_modeling__random_forest__n_estimators\": 125, \"param_preprocessing__pca__n_components\": 10, \"mean_test_score\": 0.9392251815980629}, {\"param_modeling__random_forest__n_estimators\": 125, \"param_preprocessing__pca__n_components\": 15, \"mean_test_score\": 0.9510611024070645}, {\"param_modeling__random_forest__n_estimators\": 125, \"param_preprocessing__pca__n_components\": 20, \"mean_test_score\": 0.9578122774533542}, {\"param_modeling__random_forest__n_estimators\": 125, \"param_preprocessing__pca__n_components\": 25, \"mean_test_score\": 0.9510753453923941}, {\"param_modeling__random_forest__n_estimators\": 125, \"param_preprocessing__pca__n_components\": 30, \"mean_test_score\": 0.9628827802307363}, {\"param_modeling__random_forest__n_estimators\": 125, \"param_preprocessing__pca__n_components\": 35, \"mean_test_score\": 0.957826520438684}]}}, {\"mode\": \"vega-lite\"});\n",
       "</script>"
      ],
      "text/plain": [
       "alt.Chart(...)"
      ]
     },
     "execution_count": 6,
     "metadata": {},
     "output_type": "execute_result"
    }
   ],
   "source": [
    "# Plot these values.\n",
    "chart = (\n",
    "    alt.Chart(df_grid_search_results)\n",
    "    .encode(\n",
    "        x=\"param_modeling__random_forest__n_estimators:Q\",\n",
    "        y=\"param_preprocessing__pca__n_components\",\n",
    "        color=alt.Color(\"mean_test_score\", scale=alt.Scale(scheme=\"redblue\")),\n",
    "    )\n",
    "    .configure_axis(grid=False)\n",
    "    .mark_circle()\n",
    ")\n",
    "chart"
   ]
  },
  {
   "cell_type": "markdown",
   "metadata": {},
   "source": [
    "Seems like a lot of the grid was pretty close, in terms of scoring.  This is reasonable, given how small and simple the data is."
   ]
  },
  {
   "cell_type": "markdown",
   "metadata": {},
   "source": [
    "---\n",
    "## One More Example\n",
    "\n",
    "Let's do one last easy example to solidify this.  We'll use the iris dataset, but we'll have a ridiculously small training size.  Let's see how well we can do."
   ]
  },
  {
   "cell_type": "code",
   "execution_count": 7,
   "metadata": {},
   "outputs": [
    {
     "data": {
      "text/plain": [
       "GridSearchCV(estimator=Pipeline(steps=[('preprocessing',\n",
       "                                        Pipeline(steps=[('scaler',\n",
       "                                                         StandardScaler()),\n",
       "                                                        ('pca',\n",
       "                                                         PCA(n_components=3))])),\n",
       "                                       ('modeling',\n",
       "                                        Pipeline(steps=[('logistic_regression',\n",
       "                                                         LogisticRegression(max_iter=1000))]))]),\n",
       "             param_grid={'modeling__logistic_regression__C': array([1.00000000e-04, 4.64158883e-04, 2.15443469e-03, 1.00000000e-02,\n",
       "       4.64158883e-02, 2.15443469e-01, 1.00000000e+00, 4.64158883e+00,\n",
       "       2.15443469e+01, 1.00000000e+02]),\n",
       "                         'preprocessing__pca__n_components': [1, 2, 3, 4]})"
      ]
     },
     "execution_count": 7,
     "metadata": {},
     "output_type": "execute_result"
    }
   ],
   "source": [
    "df_features, df_targets = load_iris(return_X_y=True, as_frame=True)\n",
    "x_train, x_validation, y_train, y_validation = train_test_split(\n",
    "    df_features, df_targets, train_size=0.15, random_state=1234\n",
    ")\n",
    "\n",
    "pipeline_preprocess = Pipeline(\n",
    "    [(\"scaler\", StandardScaler()), (\"pca\", PCA(n_components=3))]\n",
    ")\n",
    "\n",
    "# NOTE: Here, we could have used LogisticRegressionCV to grid values for C.\n",
    "# Since we're focusing on GridSearchCV, I decided to use the standard LogReg.\n",
    "pipeline_model = Pipeline(\n",
    "    [(\"logistic_regression\", LogisticRegression(C=1.0, max_iter=1_000))]\n",
    ")\n",
    "\n",
    "# Hook up our piplines together and train.\n",
    "pipeline_full = Pipeline(\n",
    "    [(\"preprocessing\", pipeline_preprocess), (\"modeling\", pipeline_model)]\n",
    ")\n",
    "\n",
    "param_grid = {\n",
    "    \"modeling__logistic_regression__C\": np.logspace(-4, 2, 10),\n",
    "    \"preprocessing__pca__n_components\": [1, 2, 3, 4],\n",
    "}\n",
    "\n",
    "# NOTE: Takes a few seconds.\n",
    "grid_search = GridSearchCV(pipeline_full, param_grid)\n",
    "grid_search.fit(x_train, y_train)"
   ]
  },
  {
   "cell_type": "code",
   "execution_count": 8,
   "metadata": {},
   "outputs": [
    {
     "data": {
      "text/html": [
       "\n",
       "<div id=\"altair-viz-d522c821050c4f74abd7685bf7dfbdc0\"></div>\n",
       "<script type=\"text/javascript\">\n",
       "  var VEGA_DEBUG = (typeof VEGA_DEBUG == \"undefined\") ? {} : VEGA_DEBUG;\n",
       "  (function(spec, embedOpt){\n",
       "    let outputDiv = document.currentScript.previousElementSibling;\n",
       "    if (outputDiv.id !== \"altair-viz-d522c821050c4f74abd7685bf7dfbdc0\") {\n",
       "      outputDiv = document.getElementById(\"altair-viz-d522c821050c4f74abd7685bf7dfbdc0\");\n",
       "    }\n",
       "    const paths = {\n",
       "      \"vega\": \"https://cdn.jsdelivr.net/npm//vega@5?noext\",\n",
       "      \"vega-lib\": \"https://cdn.jsdelivr.net/npm//vega-lib?noext\",\n",
       "      \"vega-lite\": \"https://cdn.jsdelivr.net/npm//vega-lite@4.17.0?noext\",\n",
       "      \"vega-embed\": \"https://cdn.jsdelivr.net/npm//vega-embed@6?noext\",\n",
       "    };\n",
       "\n",
       "    function maybeLoadScript(lib, version) {\n",
       "      var key = `${lib.replace(\"-\", \"\")}_version`;\n",
       "      return (VEGA_DEBUG[key] == version) ?\n",
       "        Promise.resolve(paths[lib]) :\n",
       "        new Promise(function(resolve, reject) {\n",
       "          var s = document.createElement('script');\n",
       "          document.getElementsByTagName(\"head\")[0].appendChild(s);\n",
       "          s.async = true;\n",
       "          s.onload = () => {\n",
       "            VEGA_DEBUG[key] = version;\n",
       "            return resolve(paths[lib]);\n",
       "          };\n",
       "          s.onerror = () => reject(`Error loading script: ${paths[lib]}`);\n",
       "          s.src = paths[lib];\n",
       "        });\n",
       "    }\n",
       "\n",
       "    function showError(err) {\n",
       "      outputDiv.innerHTML = `<div class=\"error\" style=\"color:red;\">${err}</div>`;\n",
       "      throw err;\n",
       "    }\n",
       "\n",
       "    function displayChart(vegaEmbed) {\n",
       "      vegaEmbed(outputDiv, spec, embedOpt)\n",
       "        .catch(err => showError(`Javascript Error: ${err.message}<br>This usually means there's a typo in your chart specification. See the javascript console for the full traceback.`));\n",
       "    }\n",
       "\n",
       "    if(typeof define === \"function\" && define.amd) {\n",
       "      requirejs.config({paths});\n",
       "      require([\"vega-embed\"], displayChart, err => showError(`Error loading script: ${err.message}`));\n",
       "    } else {\n",
       "      maybeLoadScript(\"vega\", \"5\")\n",
       "        .then(() => maybeLoadScript(\"vega-lite\", \"4.17.0\"))\n",
       "        .then(() => maybeLoadScript(\"vega-embed\", \"6\"))\n",
       "        .catch(showError)\n",
       "        .then(() => displayChart(vegaEmbed));\n",
       "    }\n",
       "  })({\"config\": {\"view\": {\"continuousWidth\": 400, \"continuousHeight\": 300}, \"axis\": {\"grid\": false}}, \"data\": {\"name\": \"data-49d735abdf212efc3b4bcafcc3fafd56\"}, \"mark\": \"circle\", \"encoding\": {\"color\": {\"field\": \"mean_test_score\", \"scale\": {\"scheme\": \"redblue\"}, \"type\": \"quantitative\"}, \"x\": {\"field\": \"param_modeling__logistic_regression__C\", \"type\": \"quantitative\"}, \"y\": {\"field\": \"param_preprocessing__pca__n_components\", \"type\": \"quantitative\"}}, \"$schema\": \"https://vega.github.io/schema/vega-lite/v4.17.0.json\", \"datasets\": {\"data-49d735abdf212efc3b4bcafcc3fafd56\": [{\"param_modeling__logistic_regression__C\": 0.0001, \"param_preprocessing__pca__n_components\": 1, \"mean_test_score\": 0.41}, {\"param_modeling__logistic_regression__C\": 0.0001, \"param_preprocessing__pca__n_components\": 2, \"mean_test_score\": 0.41}, {\"param_modeling__logistic_regression__C\": 0.0001, \"param_preprocessing__pca__n_components\": 3, \"mean_test_score\": 0.41}, {\"param_modeling__logistic_regression__C\": 0.0001, \"param_preprocessing__pca__n_components\": 4, \"mean_test_score\": 0.41}, {\"param_modeling__logistic_regression__C\": 0.00046415888336127773, \"param_preprocessing__pca__n_components\": 1, \"mean_test_score\": 0.41}, {\"param_modeling__logistic_regression__C\": 0.00046415888336127773, \"param_preprocessing__pca__n_components\": 2, \"mean_test_score\": 0.41}, {\"param_modeling__logistic_regression__C\": 0.00046415888336127773, \"param_preprocessing__pca__n_components\": 3, \"mean_test_score\": 0.41}, {\"param_modeling__logistic_regression__C\": 0.00046415888336127773, \"param_preprocessing__pca__n_components\": 4, \"mean_test_score\": 0.41}, {\"param_modeling__logistic_regression__C\": 0.002154434690031882, \"param_preprocessing__pca__n_components\": 1, \"mean_test_score\": 0.41}, {\"param_modeling__logistic_regression__C\": 0.002154434690031882, \"param_preprocessing__pca__n_components\": 2, \"mean_test_score\": 0.41}, {\"param_modeling__logistic_regression__C\": 0.002154434690031882, \"param_preprocessing__pca__n_components\": 3, \"mean_test_score\": 0.41}, {\"param_modeling__logistic_regression__C\": 0.002154434690031882, \"param_preprocessing__pca__n_components\": 4, \"mean_test_score\": 0.41}, {\"param_modeling__logistic_regression__C\": 0.01, \"param_preprocessing__pca__n_components\": 1, \"mean_test_score\": 0.72}, {\"param_modeling__logistic_regression__C\": 0.01, \"param_preprocessing__pca__n_components\": 2, \"mean_test_score\": 0.72}, {\"param_modeling__logistic_regression__C\": 0.01, \"param_preprocessing__pca__n_components\": 3, \"mean_test_score\": 0.72}, {\"param_modeling__logistic_regression__C\": 0.01, \"param_preprocessing__pca__n_components\": 4, \"mean_test_score\": 0.72}, {\"param_modeling__logistic_regression__C\": 0.046415888336127774, \"param_preprocessing__pca__n_components\": 1, \"mean_test_score\": 0.72}, {\"param_modeling__logistic_regression__C\": 0.046415888336127774, \"param_preprocessing__pca__n_components\": 2, \"mean_test_score\": 0.77}, {\"param_modeling__logistic_regression__C\": 0.046415888336127774, \"param_preprocessing__pca__n_components\": 3, \"mean_test_score\": 0.77}, {\"param_modeling__logistic_regression__C\": 0.046415888336127774, \"param_preprocessing__pca__n_components\": 4, \"mean_test_score\": 0.77}, {\"param_modeling__logistic_regression__C\": 0.21544346900318823, \"param_preprocessing__pca__n_components\": 1, \"mean_test_score\": 0.72}, {\"param_modeling__logistic_regression__C\": 0.21544346900318823, \"param_preprocessing__pca__n_components\": 2, \"mean_test_score\": 0.8699999999999999}, {\"param_modeling__logistic_regression__C\": 0.21544346900318823, \"param_preprocessing__pca__n_components\": 3, \"mean_test_score\": 0.8699999999999999}, {\"param_modeling__logistic_regression__C\": 0.21544346900318823, \"param_preprocessing__pca__n_components\": 4, \"mean_test_score\": 0.8699999999999999}, {\"param_modeling__logistic_regression__C\": 1.0, \"param_preprocessing__pca__n_components\": 1, \"mean_test_score\": 0.9099999999999999}, {\"param_modeling__logistic_regression__C\": 1.0, \"param_preprocessing__pca__n_components\": 2, \"mean_test_score\": 0.9099999999999999}, {\"param_modeling__logistic_regression__C\": 1.0, \"param_preprocessing__pca__n_components\": 3, \"mean_test_score\": 0.95}, {\"param_modeling__logistic_regression__C\": 1.0, \"param_preprocessing__pca__n_components\": 4, \"mean_test_score\": 0.95}, {\"param_modeling__logistic_regression__C\": 4.641588833612772, \"param_preprocessing__pca__n_components\": 1, \"mean_test_score\": 0.8699999999999999}, {\"param_modeling__logistic_regression__C\": 4.641588833612772, \"param_preprocessing__pca__n_components\": 2, \"mean_test_score\": 0.9099999999999999}, {\"param_modeling__logistic_regression__C\": 4.641588833612772, \"param_preprocessing__pca__n_components\": 3, \"mean_test_score\": 0.95}, {\"param_modeling__logistic_regression__C\": 4.641588833612772, \"param_preprocessing__pca__n_components\": 4, \"mean_test_score\": 0.95}, {\"param_modeling__logistic_regression__C\": 21.54434690031882, \"param_preprocessing__pca__n_components\": 1, \"mean_test_score\": 0.9099999999999999}, {\"param_modeling__logistic_regression__C\": 21.54434690031882, \"param_preprocessing__pca__n_components\": 2, \"mean_test_score\": 0.9099999999999999}, {\"param_modeling__logistic_regression__C\": 21.54434690031882, \"param_preprocessing__pca__n_components\": 3, \"mean_test_score\": 1.0}, {\"param_modeling__logistic_regression__C\": 21.54434690031882, \"param_preprocessing__pca__n_components\": 4, \"mean_test_score\": 1.0}, {\"param_modeling__logistic_regression__C\": 100.0, \"param_preprocessing__pca__n_components\": 1, \"mean_test_score\": 0.9099999999999999}, {\"param_modeling__logistic_regression__C\": 100.0, \"param_preprocessing__pca__n_components\": 2, \"mean_test_score\": 0.8699999999999999}, {\"param_modeling__logistic_regression__C\": 100.0, \"param_preprocessing__pca__n_components\": 3, \"mean_test_score\": 1.0}, {\"param_modeling__logistic_regression__C\": 100.0, \"param_preprocessing__pca__n_components\": 4, \"mean_test_score\": 1.0}]}}, {\"mode\": \"vega-lite\"});\n",
       "</script>"
      ],
      "text/plain": [
       "alt.Chart(...)"
      ]
     },
     "execution_count": 8,
     "metadata": {},
     "output_type": "execute_result"
    }
   ],
   "source": [
    "df_grid_search_results = pd.DataFrame(grid_search.cv_results_)\n",
    "df_grid_search_results = df_grid_search_results[\n",
    "    [\n",
    "        \"param_modeling__logistic_regression__C\",\n",
    "        \"param_preprocessing__pca__n_components\",\n",
    "        \"mean_test_score\",\n",
    "    ]\n",
    "]\n",
    "\n",
    "chart = (\n",
    "    alt.Chart(df_grid_search_results)\n",
    "    .encode(\n",
    "        x=\"param_modeling__logistic_regression__C:Q\",\n",
    "        y=\"param_preprocessing__pca__n_components\",\n",
    "        color=alt.Color(\"mean_test_score\", scale=alt.Scale(scheme=\"redblue\")),\n",
    "    )\n",
    "    .configure_axis(grid=False)\n",
    "    .mark_circle()\n",
    ")\n",
    "chart"
   ]
  },
  {
   "cell_type": "code",
   "execution_count": 9,
   "metadata": {},
   "outputs": [
    {
     "name": "stdout",
     "output_type": "stream",
     "text": [
      "{'modeling__logistic_regression__C': 21.54434690031882, 'preprocessing__pca__n_components': 3}\n",
      "1.0\n"
     ]
    }
   ],
   "source": [
    "print(grid_search.best_params_)\n",
    "print(grid_search.best_score_)"
   ]
  },
  {
   "cell_type": "markdown",
   "metadata": {},
   "source": [
    "Interesting!  Of course, this isn't meant to show the best models for these smaller datasets, but rather how to use the tools for your larger, more complex data.\n",
    "\n",
    "_Happy gridding!_  ``:']``"
   ]
  }
 ],
 "metadata": {
  "interpreter": {
   "hash": "409c0ef82ba8b7e64c8e82f82fa10040b189117e3f7cf50921b9ec62b5d5a915"
  },
  "kernelspec": {
   "display_name": "Python 3.9.5 64-bit ('blog-Mz1OaUtd-py3.9': poetry)",
   "language": "python",
   "name": "python3"
  },
  "language_info": {
   "codemirror_mode": {
    "name": "ipython",
    "version": 3
   },
   "file_extension": ".py",
   "mimetype": "text/x-python",
   "name": "python",
   "nbconvert_exporter": "python",
   "pygments_lexer": "ipython3",
   "version": "3.10.6"
  },
  "orig_nbformat": 4
 },
 "nbformat": 4,
 "nbformat_minor": 2
}
